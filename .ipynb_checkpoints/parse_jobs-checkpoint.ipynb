{
 "cells": [
  {
   "cell_type": "code",
   "execution_count": 7,
   "id": "5ffb7206",
   "metadata": {},
   "outputs": [],
   "source": [
    "import pandas as pd\n",
    "import numpy as np\n",
    "import pygsheets\n",
    "from datetime import date\n",
    "import re"
   ]
  },
  {
   "cell_type": "code",
   "execution_count": 8,
   "id": "87e4ada8",
   "metadata": {},
   "outputs": [],
   "source": [
    "def find_requirements(string):\n",
    "    if string:\n",
    "        start = re.search(\"([rR]equire)|([Qq]ualifications)\",string)\n",
    "        start = start.start() if start else 0\n",
    "        end = re.search(\"[bB]enefits\",string)\n",
    "        end  = end.start() if end else len(string)\n",
    "        requirements_ls = string[start:end].split('\\n')\n",
    "        for i in requirements_ls:\n",
    "            if len(i)<=5:\n",
    "                requirements_ls.remove(i)\n",
    "        return '$'.join(requirements_ls[1:])\n",
    "    return ''"
   ]
  },
  {
   "cell_type": "code",
   "execution_count": 9,
   "id": "c93b2c56",
   "metadata": {},
   "outputs": [],
   "source": [
    "def calculate_date(string):\n",
    "    for i in range(len(string)):\n",
    "        res = int(string[i].split(' ')[0])\n",
    "        unit = string[i].split(' ')[1]\n",
    "        if unit == 'minutes' or unit =='minute':\n",
    "            string[i] = res\n",
    "        elif unit == 'hours' or unit =='hour':\n",
    "            string[i] = res*60\n",
    "        elif unit == 'days'or unit =='day':\n",
    "            string[i] = res*60*24\n",
    "        elif unit == 'weeks' or unit =='week':\n",
    "            string[i] = res*60*24*7\n",
    "        elif unit == 'months' or unit =='month':\n",
    "            string[i] = res*60*24*30\n",
    "        else:\n",
    "            string[i] = res\n",
    "    return string"
   ]
  },
  {
   "cell_type": "code",
   "execution_count": 10,
   "id": "d031ef21",
   "metadata": {},
   "outputs": [],
   "source": [
    "def parse_df(path='jobs.csv'):\n",
    "    jobs = pd.read_csv(path)\n",
    "    jobs.drop(index=jobs.loc[jobs['already_applied'].isna()==False].index,inplace = True)\n",
    "    # jobs.drop(index=jobs.loc[jobs['easy_apply'].isna()==False].index,inplace = True)\n",
    "    jobs.drop(columns=['Unnamed: 0','already_applied','applicant_count'],inplace = True)\n",
    "    \n",
    "    #split columns\n",
    "    jobs['location'] = jobs['company'].apply(lambda x:x.split('·')[1])\n",
    "    jobs['applicants'] = jobs['company'].apply(lambda x:int(x.split('·')[2][:-10].replace(',','')))\n",
    "    jobs['company'] = jobs['company'].apply(lambda x:x.split('·')[0])\n",
    "    pattern = r\"[0-9]+\"\n",
    "    jobs['posted_date'] = jobs['location'].apply(lambda x: x[re.search(pattern,x).start():])\n",
    "    jobs['location'] = jobs['location'].apply(lambda x: x[:re.search(pattern,x).start()])\n",
    "    \n",
    "    jobs['requirements']=jobs['job_description'].apply(find_requirements)\n",
    "    jobs.drop(columns=['job_description'],inplace=True)\n",
    "    jobs = jobs[['job_title','linkedin_url','company','company_linkedin_url','location','posted_date','easy_apply','applicants','requirements','benefits']]\n",
    "    return jobs"
   ]
  },
  {
   "cell_type": "code",
   "execution_count": 25,
   "id": "fe74e4fa",
   "metadata": {},
   "outputs": [],
   "source": [
    "def upload_df(df,path = 'C:/Users/Muggl/Desktop/linkedin-jobs-392523-00de46c464a4.json'):\n",
    "# Update the google spreadsheet \n",
    "    gc=pygsheets.authorize(service_account_file=path)\n",
    "    sh = gc.open('daily_linkedin_jobs')\n",
    "    try:\n",
    "        sh.add_worksheet(f\"{str(date.today())}\")\n",
    "        current_sheet = sh.worksheets()[-1]\n",
    "    except:\n",
    "        current_sheet=sh.worksheet_by_title(f\"{str(date.today())}\")\n",
    "        current_sheet.clear()\n",
    "    \n",
    "    current_sheet.set_dataframe(df,(1,1))\n",
    "    for i in range(2,len(df)+2):\n",
    "        command = \"=SUBSTITUTE(\" + f\"I{i}\" + ',\"$\"'+\",CHAR(10))\"\n",
    "        current_sheet.update_value(f\"K{i}\",command,True)\n",
    "    current_sheet.delete_cols(index=9)\n",
    "    current_sheet.update_values(\"K1\", \"requirements\")"
   ]
  },
  {
   "cell_type": "code",
   "execution_count": 26,
   "id": "3c443cad",
   "metadata": {},
   "outputs": [],
   "source": [
    "def main():\n",
    "    job_df = parse_df()\n",
    "    upload_df(job_df)"
   ]
  },
  {
   "cell_type": "code",
   "execution_count": 27,
   "id": "053f1844",
   "metadata": {},
   "outputs": [
    {
     "ename": "AttributeError",
     "evalue": "'Worksheet' object has no attribute 'worksht'",
     "output_type": "error",
     "traceback": [
      "\u001b[1;31m---------------------------------------------------------------------------\u001b[0m",
      "\u001b[1;31mAttributeError\u001b[0m                            Traceback (most recent call last)",
      "Cell \u001b[1;32mIn[27], line 2\u001b[0m\n\u001b[0;32m      1\u001b[0m job_df \u001b[38;5;241m=\u001b[39m parse_df()\n\u001b[1;32m----> 2\u001b[0m \u001b[43mupload_df\u001b[49m\u001b[43m(\u001b[49m\u001b[43mjob_df\u001b[49m\u001b[43m)\u001b[49m\n",
      "Cell \u001b[1;32mIn[25], line 17\u001b[0m, in \u001b[0;36mupload_df\u001b[1;34m(df, path)\u001b[0m\n\u001b[0;32m     15\u001b[0m     current_sheet\u001b[38;5;241m.\u001b[39mupdate_value(\u001b[38;5;124mf\u001b[39m\u001b[38;5;124m\"\u001b[39m\u001b[38;5;124mK\u001b[39m\u001b[38;5;132;01m{\u001b[39;00mi\u001b[38;5;132;01m}\u001b[39;00m\u001b[38;5;124m\"\u001b[39m,command,\u001b[38;5;28;01mTrue\u001b[39;00m)\n\u001b[0;32m     16\u001b[0m current_sheet\u001b[38;5;241m.\u001b[39mdelete_cols(index\u001b[38;5;241m=\u001b[39m\u001b[38;5;241m9\u001b[39m)\n\u001b[1;32m---> 17\u001b[0m \u001b[43mcurrent_sheet\u001b[49m\u001b[38;5;241;43m.\u001b[39;49m\u001b[43mworksht\u001b[49m\u001b[38;5;241m.\u001b[39mupdate_values(\u001b[38;5;124m\"\u001b[39m\u001b[38;5;124mK1\u001b[39m\u001b[38;5;124m\"\u001b[39m, \u001b[38;5;124m\"\u001b[39m\u001b[38;5;124mrequirements\u001b[39m\u001b[38;5;124m\"\u001b[39m)\n",
      "\u001b[1;31mAttributeError\u001b[0m: 'Worksheet' object has no attribute 'worksht'"
     ]
    }
   ],
   "source": [
    "job_df = parse_df()\n",
    "upload_df(job_df)"
   ]
  },
  {
   "cell_type": "code",
   "execution_count": null,
   "id": "c6db0ad3",
   "metadata": {},
   "outputs": [],
   "source": [
    "job_df"
   ]
  },
  {
   "cell_type": "code",
   "execution_count": null,
   "id": "e0cbc5b7",
   "metadata": {},
   "outputs": [],
   "source": []
  }
 ],
 "metadata": {
  "kernelspec": {
   "display_name": "Python 3 (ipykernel)",
   "language": "python",
   "name": "python3"
  },
  "language_info": {
   "codemirror_mode": {
    "name": "ipython",
    "version": 3
   },
   "file_extension": ".py",
   "mimetype": "text/x-python",
   "name": "python",
   "nbconvert_exporter": "python",
   "pygments_lexer": "ipython3",
   "version": "3.10.9"
  }
 },
 "nbformat": 4,
 "nbformat_minor": 5
}
